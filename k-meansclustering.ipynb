{
 "cells": [
  {
   "cell_type": "code",
   "execution_count": 9,
   "metadata": {},
   "outputs": [
    {
     "name": "stdout",
     "output_type": "stream",
     "text": [
      "[[53  1  0]\n",
      " [ 0 17  0]\n",
      " [ 0  0 32]]\n",
      "              precision    recall  f1-score   support\n",
      "\n",
      "      Adelie       1.00      0.98      0.99        54\n",
      "   Chinstrap       0.94      1.00      0.97        17\n",
      "      Gentoo       1.00      1.00      1.00        32\n",
      "\n",
      "    accuracy                           0.99       103\n",
      "   macro avg       0.98      0.99      0.99       103\n",
      "weighted avg       0.99      0.99      0.99       103\n",
      "\n"
     ]
    }
   ],
   "source": [
    "#import libraries\n",
    "import pandas as pd\n",
    "from sklearn.model_selection import train_test_split\n",
    "from sklearn.preprocessing import StandardScaler\n",
    "from sklearn.neighbors import KNeighborsClassifier\n",
    "from sklearn.metrics import classification_report, confusion_matrix\n",
    "\n",
    "\n",
    "\n",
    "#import dataset\n",
    "df = pd.read_csv('https://raw.githubusercontent.com/mwaskom/seaborn-data/master/penguins.csv')\n",
    "df.head()\n",
    "\n",
    "#delete variable\n",
    "del df['sex']\n",
    "\n",
    "#drop rows containing misisng values\n",
    "#drop = df.dropna(axis=0, how='any', thresh=None, subset=None, inplace=True)\n",
    "# the above code does not work because you are not able to use both how and thresh at the same time\n",
    "drop = df.dropna(axis=0, how='any', subset=None, inplace=True)\n",
    "\n",
    "drop = df.dropna(thresh= None)\n",
    "\n",
    "#convert non-numeric data using one hot encoding\n",
    "df = pd.get_dummies(df,columns=['island' ])\n",
    "\n",
    "\n",
    "#standardize the independent variables  using StandardScaler\n",
    "scaler = StandardScaler()\n",
    "scaler.fit(df.drop('species', axis=1))\n",
    "scaled_df = scaler.transform(df.drop('species', axis=1))\n",
    "\n",
    "#assing x and y variables\n",
    "x = scaled_df\n",
    "y = df['species']\n",
    "\n",
    "#split data into test/train sets (70/30 ) and shuffle\n",
    "x_train, x_test, y_train, y_test = train_test_split(x, y, test_size=0.3, shuffle=True)\n",
    "\n",
    "#assing the algorithm to the model\n",
    "model = KNeighborsClassifier(n_neighbors=5)\n",
    "\n",
    "#link algorithm to the data x and y variables\n",
    "model.fit(x_train, y_train)\n",
    "\n",
    "# Run algorithm on test data\n",
    "model_test = model.predict(x_test)\n",
    "\n",
    "#evalate the model\n",
    "print(confusion_matrix(y_test, model_test))\n",
    "print(classification_report(y_test, model_test))\n",
    "\n"
   ]
  },
  {
   "cell_type": "code",
   "execution_count": 8,
   "metadata": {},
   "outputs": [
    {
     "data": {
      "text/plain": [
       "array(['Gentoo'], dtype=object)"
      ]
     },
     "execution_count": 8,
     "metadata": {},
     "output_type": "execute_result"
    }
   ],
   "source": [
    "# Data point to predict\n",
    "# this is our original testing data\n",
    "penguin = [\n",
    "\t39, #bill_length_mm\n",
    "\t18.5, #bill_depth_mm\n",
    "\t180, #flipper_length_mm \n",
    "\t3750, #body_mass_g\n",
    "\t0, #island_Biscoe    \n",
    "\t0, #island_Dream\n",
    "\t1, #island_Torgersen    \n",
    "]\n",
    "\n",
    "# Make prediction\n",
    "new_penguin = model.predict([penguin])\n",
    "new_penguin"
   ]
  },
  {
   "cell_type": "code",
   "execution_count": null,
   "metadata": {},
   "outputs": [],
   "source": []
  },
  {
   "cell_type": "code",
   "execution_count": 10,
   "metadata": {},
   "outputs": [
    {
     "name": "stdout",
     "output_type": "stream",
     "text": [
      "[[50  0  0]\n",
      " [ 0 22  0]\n",
      " [ 0  0 28]]\n",
      "              precision    recall  f1-score   support\n",
      "\n",
      "      Adelie       1.00      1.00      1.00        50\n",
      "   Chinstrap       1.00      1.00      1.00        22\n",
      "      Gentoo       1.00      1.00      1.00        28\n",
      "\n",
      "    accuracy                           1.00       100\n",
      "   macro avg       1.00      1.00      1.00       100\n",
      "weighted avg       1.00      1.00      1.00       100\n",
      "\n"
     ]
    }
   ],
   "source": [
    "# the only difference in code above is that we are using the original data to make a prediction\n",
    "# we remove the \"deletion of sex\" and add sex to one hot encoding to notice\n",
    "#if there is a difference in the data\n",
    "\n",
    "\n",
    "#import libraries\n",
    "\n",
    "\n",
    "import pandas as pd\n",
    "from sklearn.model_selection import train_test_split\n",
    "from sklearn.preprocessing import StandardScaler\n",
    "from sklearn.neighbors import KNeighborsClassifier\n",
    "from sklearn.metrics import classification_report, confusion_matrix\n",
    "\n",
    "\n",
    "\n",
    "#import dataset\n",
    "df = pd.read_csv('https://raw.githubusercontent.com/mwaskom/seaborn-data/master/penguins.csv')\n",
    "df.head()\n",
    "\n",
    "\n",
    "#drop rows containing misisng values\n",
    "#drop = df.dropna(axis=0, how='any', thresh=None, subset=None, inplace=True)\n",
    "# the above code does not work because you are not able to use both how and thresh at the same time\n",
    "drop = df.dropna(axis=0, how='any', subset=None, inplace=True)\n",
    "\n",
    "drop = df.dropna(thresh= None)\n",
    "\n",
    "#convert non-numeric data using one hot encoding\n",
    "df = pd.get_dummies(df,columns=['island','sex' ])\n",
    "\n",
    "\n",
    "#standardize the independent variables  using StandardScaler\n",
    "scaler = StandardScaler()\n",
    "scaler.fit(df.drop('species', axis=1))\n",
    "scaled_df = scaler.transform(df.drop('species', axis=1))\n",
    "\n",
    "#assing x and y variables\n",
    "x = scaled_df\n",
    "y = df['species']\n",
    "\n",
    "#split data into test/train sets (70/30 ) and shuffle\n",
    "x_train, x_test, y_train, y_test = train_test_split(x, y, test_size=0.3, shuffle=True)\n",
    "\n",
    "#assing the algorithm to the model\n",
    "model = KNeighborsClassifier(n_neighbors=5)\n",
    "\n",
    "#link algorithm to the data x and y variables\n",
    "model.fit(x_train, y_train)\n",
    "\n",
    "# Run algorithm on test data\n",
    "model_test = model.predict(x_test)\n",
    "\n",
    "#evalate the model\n",
    "print(confusion_matrix(y_test, model_test))\n",
    "print(classification_report(y_test, model_test))\n",
    "\n"
   ]
  },
  {
   "cell_type": "code",
   "execution_count": 11,
   "metadata": {},
   "outputs": [
    {
     "data": {
      "text/plain": [
       "array(['Gentoo'], dtype=object)"
      ]
     },
     "execution_count": 11,
     "metadata": {},
     "output_type": "execute_result"
    }
   ],
   "source": [
    "# Data point to predict\n",
    "# this is our second prediction testing but we include a bit more data\n",
    "penguin = [\n",
    "\t39, #bill_length_mm\n",
    "\t18.5, #bill_depth_mm\n",
    "\t180, #flipper_length_mm \n",
    "\t3750, #body_mass_g\n",
    "\t0, #island_Biscoe    \n",
    "\t0, #island_Dream\n",
    "\t1, #island_Torgersen  \n",
    "    1, #male\n",
    "    0, #female  \n",
    "]\n",
    "\n",
    "# Make prediction\n",
    "new_penguin = model.predict([penguin])\n",
    "new_penguin"
   ]
  }
 ],
 "metadata": {
  "kernelspec": {
   "display_name": "base",
   "language": "python",
   "name": "python3"
  },
  "language_info": {
   "codemirror_mode": {
    "name": "ipython",
    "version": 3
   },
   "file_extension": ".py",
   "mimetype": "text/x-python",
   "name": "python",
   "nbconvert_exporter": "python",
   "pygments_lexer": "ipython3",
   "version": "3.11.5"
  }
 },
 "nbformat": 4,
 "nbformat_minor": 2
}
